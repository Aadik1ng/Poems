{
 "cells": [
  {
   "cell_type": "code",
   "execution_count": 3,
   "metadata": {},
   "outputs": [
    {
     "name": "stderr",
     "output_type": "stream",
     "text": [
      "[nltk_data] Downloading package punkt to\n",
      "[nltk_data]     C:\\Users\\aadit\\AppData\\Roaming\\nltk_data...\n",
      "[nltk_data]   Package punkt is already up-to-date!\n",
      "[nltk_data] Downloading package punkt to\n",
      "[nltk_data]     C:\\Users\\aadit\\AppData\\Roaming\\nltk_data...\n",
      "[nltk_data]   Package punkt is already up-to-date!\n"
     ]
    }
   ],
   "source": [
    "import os\n",
    "import nltk\n",
    "import yaml\n",
    "# nltk.download('punkt')\n",
    "\n",
    "def load_data(data_dir):\n",
    "    poems = []\n",
    "    for root, _, files in os.walk(data_dir):\n",
    "        for file in files:\n",
    "            with open(os.path.join(root, file), 'r', encoding='utf-8') as f:\n",
    "                poems.append(f.read())\n",
    "    return poems\n",
    "\n",
    "form_poems = load_data('../data/form')\n",
    "topic_poems = load_data('../data/topic')\n",
    "\n",
    "with open('../data/form_poems.txt', 'w', encoding='utf-8') as f:\n",
    "    f.write(\"\\n\".join(form_poems))\n",
    "\n",
    "with open('../data/topic_poems.txt', 'w', encoding='utf-8') as f:\n",
    "    f.write(\"\\n\".join(topic_poems))\n",
    "import os\n",
    "import nltk\n",
    "import yaml\n",
    "nltk.download('punkt')\n",
    "\n",
    "def load_data(data_dir):\n",
    "    poems = []\n",
    "    for root, _, files in os.walk(data_dir):\n",
    "        for file in files:\n",
    "            with open(os.path.join(root, file), 'r', encoding='utf-8') as f:\n",
    "                poems.append(f.read())\n",
    "    return poems\n",
    "\n",
    "form_poems = load_data('../data/form')\n",
    "topic_poems = load_data('../data/topic')\n",
    "\n",
    "with open('../data/form_poems.txt', 'w', encoding='utf-8') as f:\n",
    "    f.write(\"\\n\".join(form_poems))\n",
    "\n",
    "with open('../data/topic_poems.txt', 'w', encoding='utf-8') as f:\n",
    "    f.write(\"\\n\".join(topic_poems))\n"
   ]
  }
 ],
 "metadata": {
  "kernelspec": {
   "display_name": "poem_env",
   "language": "python",
   "name": "python3"
  },
  "language_info": {
   "codemirror_mode": {
    "name": "ipython",
    "version": 3
   },
   "file_extension": ".py",
   "mimetype": "text/x-python",
   "name": "python",
   "nbconvert_exporter": "python",
   "pygments_lexer": "ipython3",
   "version": "3.11.9"
  }
 },
 "nbformat": 4,
 "nbformat_minor": 2
}
